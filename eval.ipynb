{
 "cells": [
  {
   "cell_type": "code",
   "execution_count": null,
   "id": "d2d5c6c5",
   "metadata": {},
   "outputs": [],
   "source": [
    "import numpy as np\n",
    "from os.path import join\n",
    "import os\n",
    "from tqdm import tqdm\n",
    "from sklearn.manifold import TSNE\n",
    "from sklearn.metrics import silhouette_score, normalized_mutual_info_score as nmi_score, completeness_score\n",
    "import umap\n",
    "import sys\n",
    "import importlib\n",
    "import torch\n",
    "import anndata as ad\n",
    "import scanpy as sc\n",
    "import seaborn as sns\n",
    "import matplotlib.pyplot as plt\n",
    "from matplotlib.cm import rainbow\n",
    "%matplotlib inline"
   ]
  },
  {
   "cell_type": "markdown",
   "id": "5e0f4acf",
   "metadata": {},
   "source": [
    "# Init"
   ]
  },
  {
   "cell_type": "code",
   "execution_count": null,
   "id": "be6c38f0",
   "metadata": {},
   "outputs": [],
   "source": [
    "PROJ_DIR = '/home/gcgreen2/neurips_comp'\n",
    "DATA_DIR = join(PROJ_DIR, 'data')\n",
    "OUT_DIR = os.getcwd()"
   ]
  },
  {
   "cell_type": "code",
   "execution_count": null,
   "id": "8570fd80",
   "metadata": {},
   "outputs": [],
   "source": [
    "sys.path.append(join(PROJ_DIR,'cae'))\n",
    "from scripts import models, utils, task3_metrics as t3"
   ]
  },
  {
   "cell_type": "code",
   "execution_count": null,
   "id": "137a3c43",
   "metadata": {},
   "outputs": [],
   "source": [
    "# importlib.reload(models)"
   ]
  },
  {
   "cell_type": "code",
   "execution_count": null,
   "id": "53a73d36",
   "metadata": {
    "scrolled": true
   },
   "outputs": [],
   "source": [
    "with open(join(OUT_DIR,'config.py'), 'r') as fh:\n",
    "    lines = fh.read()\n",
    "    eval(compile(lines, '<string>', 'exec'))"
   ]
  },
  {
   "cell_type": "code",
   "execution_count": null,
   "id": "6c48c82b",
   "metadata": {},
   "outputs": [],
   "source": [
    "par"
   ]
  },
  {
   "cell_type": "markdown",
   "id": "d01d763d",
   "metadata": {},
   "source": [
    "## Load data & model"
   ]
  },
  {
   "cell_type": "code",
   "execution_count": null,
   "id": "2501976e",
   "metadata": {},
   "outputs": [],
   "source": [
    "adata_mod1 = ad.read_h5ad(par['data_mod1'])\n",
    "adata_mod2 = ad.read_h5ad(par['data_mod2'])"
   ]
  },
  {
   "cell_type": "code",
   "execution_count": null,
   "id": "9f11c653",
   "metadata": {},
   "outputs": [],
   "source": [
    "mod1_pca = np.load(files['mod1_pca'])\n",
    "mod2_pca = np.load(files['mod2_pca'])"
   ]
  },
  {
   "cell_type": "code",
   "execution_count": null,
   "id": "03ba1ec2",
   "metadata": {},
   "outputs": [],
   "source": [
    "adata_mod1.obsm['X_pca'] = mod1_pca\n",
    "adata_mod2.obsm['X_pca'] = mod2_pca"
   ]
  },
  {
   "cell_type": "code",
   "execution_count": null,
   "id": "a81982c6",
   "metadata": {},
   "outputs": [],
   "source": [
    "adata_mod1.obs['mod'] = 'mod1'\n",
    "adata_mod2.obs['mod'] = 'mod2'"
   ]
  },
  {
   "cell_type": "code",
   "execution_count": null,
   "id": "c242816d",
   "metadata": {},
   "outputs": [],
   "source": [
    "model = eval(utils.model_str(par))\n",
    "model.load_state_dict(torch.load(files['model']))"
   ]
  },
  {
   "cell_type": "markdown",
   "id": "9849dbec",
   "metadata": {},
   "source": [
    "## Get latent space repr. and perform clustering"
   ]
  },
  {
   "cell_type": "code",
   "execution_count": null,
   "id": "1b29f90e",
   "metadata": {},
   "outputs": [],
   "source": [
    "X,Y = [torch.FloatTensor(data.obsm['X_pca']) for data in [adata_mod1,adata_mod2]]\n",
    "_,_,Mu_mod1,Logvar_mod1,Mu_mod2,Logvar_mod2,Z_mod1,Z_mod2 = [x.detach().numpy() for x in model(X,Y)]"
   ]
  },
  {
   "cell_type": "code",
   "execution_count": null,
   "id": "c208c84f",
   "metadata": {},
   "outputs": [],
   "source": [
    "adata_mod1.obsm['Z'] = Z_mod1\n",
    "adata_mod2.obsm['Z'] = Z_mod2\n",
    "adata_mod1.obsm['Z_mu'] = Mu_mod1\n",
    "adata_mod2.obsm['Z_mu'] = Mu_mod2\n",
    "adata_mod1.obsm['Z_var'] = Logvar_mod1\n",
    "adata_mod2.obsm['Z_var'] = Logvar_mod2\n",
    "adata_mod1.obsm['Z_2d'] = Z_mod1[:,:2]\n",
    "adata_mod2.obsm['Z_2d'] = Z_mod2[:,:2]\n",
    "\n",
    "adata_mod1.obsm['Z_mu_avg'] = 1/2 * (Mu_mod1+Mu_mod2)"
   ]
  },
  {
   "cell_type": "code",
   "execution_count": null,
   "id": "86fd3931",
   "metadata": {},
   "outputs": [],
   "source": [
    "overwrite = False\n",
    "umap_path = join(OUT_DIR, 'umap.npy')\n",
    "if os.path.exists(umap_path) and not overwrite:\n",
    "    Z_umap = np.load(umap_path, allow_pickle=True)\n",
    "else:\n",
    "    Z = np.concatenate((Z_mod1,Z_mod2), axis=0)\n",
    "    Z_umap = umap.UMAP().fit_transform(Z)\n",
    "    np.save(umap_path, Z_umap)"
   ]
  },
  {
   "cell_type": "code",
   "execution_count": null,
   "id": "3df4b251",
   "metadata": {},
   "outputs": [],
   "source": [
    "adata_mod1.obsm['Z_umap'] = Z_umap[:len(Z_umap)//2]\n",
    "adata_mod2.obsm['Z_umap'] = Z_umap[len(Z_umap)//2:]"
   ]
  },
  {
   "cell_type": "code",
   "execution_count": null,
   "id": "66495237",
   "metadata": {},
   "outputs": [],
   "source": [
    "# tsne_path = join(OUT_DIR, 'tsne.npy')\n",
    "# if os.path.exists(tsne_path):\n",
    "#     Z_tsne = np.load(tsne_path, allow_pickle=True)\n",
    "# else:\n",
    "#     Z = np.concatenate((Z_mod1,Z_mod2), axis=0)\n",
    "#     Z_tsne = TSNE(2).fit_transform(Z)\n",
    "#     np.save(tsne_path, Z_tsne)"
   ]
  },
  {
   "cell_type": "code",
   "execution_count": null,
   "id": "100e38e1",
   "metadata": {},
   "outputs": [],
   "source": [
    "# adata_mod1.obsm['Z_tsne'] = Z_tsne[:len(Z_tsne)//2]\n",
    "# adata_mod2.obsm['Z_tsne'] = Z_tsne[len(Z_tsne)//2:]"
   ]
  },
  {
   "cell_type": "markdown",
   "id": "b7c3c1e8",
   "metadata": {},
   "source": [
    "## Add test and train info"
   ]
  },
  {
   "cell_type": "code",
   "execution_count": null,
   "id": "3a79574b",
   "metadata": {},
   "outputs": [],
   "source": [
    "# idx_train = np.loadtxt(files['idx_train'], dtype=int)\n",
    "# idx_test = np.loadtxt(files['idx_test'], dtype=int)"
   ]
  },
  {
   "cell_type": "code",
   "execution_count": null,
   "id": "fe982671",
   "metadata": {},
   "outputs": [],
   "source": [
    "# is_train = np.full(len(adata_mod1), True)\n",
    "# is_train[idx_test] = False"
   ]
  },
  {
   "cell_type": "code",
   "execution_count": null,
   "id": "a3d3ae1c",
   "metadata": {},
   "outputs": [],
   "source": [
    "# adata_mod1.obs['is_train'] = is_train\n",
    "# adata_mod2.obs['is_train'] = is_train"
   ]
  },
  {
   "cell_type": "code",
   "execution_count": null,
   "id": "890b2c69",
   "metadata": {},
   "outputs": [],
   "source": [
    "# mod1_train, mod2_train, mod1_test, mod2_test = \\\n",
    "#     [adata[idx] for idx in [idx_train, idx_test] for adata in [adata_mod1,adata_mod2]]"
   ]
  },
  {
   "cell_type": "markdown",
   "id": "1607c229",
   "metadata": {},
   "source": [
    "# Latent space plots"
   ]
  },
  {
   "cell_type": "code",
   "execution_count": null,
   "id": "e2319e57",
   "metadata": {},
   "outputs": [],
   "source": [
    "names=['Mu_mod1','Mu_mod2','Logvar_mod1','Logvar_mod2','Z_mod1','Z_mod2']\n",
    "xs=[Mu_mod1,Mu_mod2,np.exp(0.5*Logvar_mod1),np.exp(0.5*Logvar_mod2),Z_mod1,Z_mod2]\n",
    "plt.figure(figsize=(10,7))\n",
    "for x,n in zip(xs,names):\n",
    "    plt.hist(x.flatten(),alpha=0.5,label=n)\n",
    "plt.legend()"
   ]
  },
  {
   "cell_type": "code",
   "execution_count": null,
   "id": "080a44c2",
   "metadata": {},
   "outputs": [],
   "source": [
    "def plot_latent(mod1, mod2, col, train_test='all', clustering='Z_umap'):\n",
    "#     if train_test != 'all':\n",
    "#         idx = np.where(mod1.obs['is_train'] == (train_test=='train'))\n",
    "#         mod1 = mod1[idx]\n",
    "#         mod2 = mod2[idx]\n",
    "        \n",
    "    labels = set(np.unique(mod1.obs[col]))\n",
    "    labels.update(np.unique(mod2.obs[col]))\n",
    "    colors = rainbow(np.linspace(0,1,len(labels),endpoint=False), alpha=0.2)\n",
    "    \n",
    "    plt.figure(figsize=(9,7))\n",
    "    plt.title(col + ', latent space tsne')\n",
    "    for i,label in enumerate(labels):\n",
    "        cur_mod1 = mod1[np.where(mod1.obs[col] == label)].obsm[clustering]\n",
    "        cur_mod2 = mod2[np.where(mod2.obs[col] == label)].obsm[clustering]\n",
    "        x = np.concatenate((cur_mod1[:,0], cur_mod2[:,0]), axis=0)\n",
    "        y = np.concatenate((cur_mod1[:,1], cur_mod2[:,1]), axis=0)\n",
    "        plt.plot(x, y, 'o', color=colors[i], label=label)\n",
    "        \n",
    "    leg = plt.legend(bbox_to_anchor=(1.05, 1.0), loc='upper left')\n",
    "    for lh in leg.legendHandles: \n",
    "        lh._legmarker.set_alpha(1)"
   ]
  },
  {
   "cell_type": "markdown",
   "id": "e231f291",
   "metadata": {},
   "source": [
    "### Modality"
   ]
  },
  {
   "cell_type": "code",
   "execution_count": null,
   "id": "f84166bc",
   "metadata": {},
   "outputs": [],
   "source": [
    "plot_latent(adata_mod1, adata_mod2, 'mod')"
   ]
  },
  {
   "cell_type": "markdown",
   "id": "06274779",
   "metadata": {},
   "source": [
    "### Cell type"
   ]
  },
  {
   "cell_type": "code",
   "execution_count": null,
   "id": "6e311ff3",
   "metadata": {},
   "outputs": [],
   "source": [
    "plot_latent(adata_mod1, adata_mod2, 'cell_type')"
   ]
  },
  {
   "cell_type": "markdown",
   "id": "2935c3a7",
   "metadata": {},
   "source": [
    "### Batch"
   ]
  },
  {
   "cell_type": "code",
   "execution_count": null,
   "id": "f0ac7d54",
   "metadata": {},
   "outputs": [],
   "source": [
    "plot_latent(adata_mod1, adata_mod2, 'batch')"
   ]
  },
  {
   "cell_type": "markdown",
   "id": "59567245",
   "metadata": {},
   "source": [
    "# Clustering metrics"
   ]
  },
  {
   "cell_type": "code",
   "execution_count": null,
   "id": "6654ec7f",
   "metadata": {},
   "outputs": [],
   "source": [
    "clust_path = join(OUT_DIR, 'clustering.npy')\n",
    "sc.pp.neighbors(adata_mod1, n_pcs=0, use_rep='Z_mu_avg')\n",
    "sc.tl.louvain(adata_mod1)\n",
    "np.save(clust_path, adata_mod1.obs['louvain'])"
   ]
  },
  {
   "cell_type": "code",
   "execution_count": null,
   "id": "5727933a",
   "metadata": {},
   "outputs": [],
   "source": [
    "pred = adata_mod1.obs['louvain']\n",
    "gt = adata_mod1.obs['cell_type']"
   ]
  },
  {
   "cell_type": "code",
   "execution_count": null,
   "id": "fff70e57",
   "metadata": {},
   "outputs": [],
   "source": [
    "silhouette = silhouette_score(adata_mod1.obsm['Z_mu_avg'], gt)\n",
    "nmi = nmi_score(gt, pred)\n",
    "completeness = completeness_score(gt, pred)\n",
    "print(f'silhouette coef: {silhouette},  nmi: {nmi},  completeness: {completeness}')"
   ]
  },
  {
   "cell_type": "markdown",
   "id": "d64dcf9e",
   "metadata": {},
   "source": [
    "# Task 3 Metrics"
   ]
  },
  {
   "cell_type": "code",
   "execution_count": null,
   "id": "1da97499",
   "metadata": {},
   "outputs": [],
   "source": [
    "# t3.evaluation_task3()"
   ]
  }
 ],
 "metadata": {
  "kernelspec": {
   "display_name": "Python 3 (ipykernel)",
   "language": "python",
   "name": "python3"
  },
  "language_info": {
   "codemirror_mode": {
    "name": "ipython",
    "version": 3
   },
   "file_extension": ".py",
   "mimetype": "text/x-python",
   "name": "python",
   "nbconvert_exporter": "python",
   "pygments_lexer": "ipython3",
   "version": "3.9.7"
  }
 },
 "nbformat": 4,
 "nbformat_minor": 5
}
